{
 "cells": [
  {
   "cell_type": "markdown",
   "metadata": {},
   "source": [
    "# Setting up access to the Pele API\n",
    "\n",
    "#### *Pele* is a RESTful API which provides access to the contents of the data product catalog.\n",
    "\n",
    "#### This notebook will walk you through the process of registering for pele access, storing your credentials locally, and instantiating a handle which will automatically use these credentials to access Pele.\n",
    "\n",
    "### Set the correct value of your Mozart host\n",
    "\n",
    "#### Set the correct Mozart hostname or ip address in the `mozart_host` variable below"
   ]
  },
  {
   "cell_type": "code",
   "execution_count": null,
   "metadata": {},
   "outputs": [],
   "source": [
    "import requests, json, getpass\n",
    "from requests.auth import HTTPBasicAuth\n",
    "import urllib3\n",
    "\n",
    "urllib3.disable_warnings()\n",
    "\n",
    "# set the base url to interact with the goddess, Pele\n",
    "mozart_host = '137.78.250.114'\n",
    "base_url = f'https://{mozart_host}/pele/api/v0.1'\n",
    "print(\"Using base url {}.\".format(base_url))"
   ]
  },
  {
   "cell_type": "markdown",
   "metadata": {},
   "source": [
    "### Set your username (email) and password"
   ]
  },
  {
   "cell_type": "code",
   "execution_count": null,
   "metadata": {},
   "outputs": [],
   "source": [
    "user = input(\"Enter email address then press <Enter>: \")\n",
    "print(\"Enter password then press <Enter>.\")\n",
    "print(\"*ATTENTION!!! DON'T USE YOUR JPL PASSWORD HERE. MAKE SOMETHING UP FOR THIS TEST.*\")\n",
    "password = getpass.getpass()\n",
    "\n",
    "print(f'Using username \"{user}\" and password: \"{password}\"'.format(password))"
   ]
  },
  {
   "cell_type": "markdown",
   "metadata": {},
   "source": [
    "### Register with your email/password"
   ]
  },
  {
   "cell_type": "code",
   "execution_count": null,
   "metadata": {},
   "outputs": [],
   "source": [
    "r = requests.post(base_url + '/register', data={'email': user, 'password': password}, verify=False)\n",
    "\n",
    "# expect 201 (created)\n",
    "print(\"status code: {}\".format(r.status_code))\n",
    "print(\"content: {}\".format(r.content.decode()))\n",
    "assert r.status_code == 201"
   ]
  },
  {
   "cell_type": "markdown",
   "metadata": {},
   "source": [
    "## Verify your account\n",
    "\n",
    "#### You will receive an email, containing a verification code. For example:\n",
    "\n",
    "```\n",
    "Use your verification code below to verify your Pele API account at http://localhost:8877/api/v0.1/:\n",
    "\n",
    "ffa8d18b-f581-44bf-8864-b52a2cd8e7b6\n",
    "```\n",
    "\n",
    "#### The following cell will prompt you for that verification code:"
   ]
  },
  {
   "cell_type": "code",
   "execution_count": null,
   "metadata": {},
   "outputs": [],
   "source": [
    "# prompt for verification code\n",
    "ver_code = input(\"Enter the verification code:\")\n",
    "\n",
    "# verify\n",
    "r = requests.post(base_url + '/verify', data={'email': user, 'verification_code': ver_code}, verify=False)\n",
    "\n",
    "# expect 200\n",
    "print(\"status code: {}\".format(r.status_code))\n",
    "print(json.dumps(r.json(), indent=2))\n",
    "assert r.status_code == 200"
   ]
  },
  {
   "cell_type": "markdown",
   "metadata": {},
   "source": [
    "## Logging in to retrieve an API token\n",
    "\n",
    "#### Once your user registration is verified, you can then log into the Pele API which will provide you with an API token (valid for a period of time). The API token will allow you to make requests of the Pele API:"
   ]
  },
  {
   "cell_type": "code",
   "execution_count": null,
   "metadata": {},
   "outputs": [],
   "source": [
    "r = requests.post(base_url + '/login', auth=HTTPBasicAuth(user, password), verify=False)\n",
    "\n",
    "# expect 200\n",
    "print(\"status code: {}\".format(r.status_code))\n",
    "print(json.dumps(r.json(), indent=2))\n",
    "\n",
    "# extract API token\n",
    "token = r.json()['token']\n",
    "print(\"token: {}\".format(token))\n",
    "assert r.status_code == 200"
   ]
  },
  {
   "cell_type": "markdown",
   "metadata": {},
   "source": [
    "## Making a restricted API call using your token\n",
    "\n",
    "#### When making a Pele API call that is restricted to authenticated users, pass your API token in a header called `X-API-KEY`:"
   ]
  },
  {
   "cell_type": "code",
   "execution_count": null,
   "metadata": {},
   "outputs": [],
   "source": [
    "r = requests.get(base_url + '/test/echo', params={'echo_str': 'hello world'}, headers={'X-API-KEY': token}, verify=False)\n",
    "\n",
    "# expect 200\n",
    "print(\"status code: {}\".format(r.status_code))\n",
    "print(json.dumps(r.json(), indent=2))\n",
    "assert r.status_code == 200"
   ]
  },
  {
   "cell_type": "markdown",
   "metadata": {},
   "source": [
    "## Detecting expiration of your API token\n",
    "\n",
    "#### Your API token will expire after some time (the default is 24 hours). The example below shows that when your token has expired, you will receive a `401` status code error with the error message: `Expired token. Reauthentication required.`:\n",
    "\n",
    "```\n",
    "In [1]: r = requests.get(base_url + '/test/echo', params={'echo_str': 'hello world'}, headers={'X-API-KEY': token})\n",
    "\n",
    "In [2]: r.status_code\n",
    "Out[2]: 401\n",
    "\n",
    "In [3]: r.json()\n",
    "Out[3]: \n",
    "{u'authenticated': False,\n",
    " u'message': u'Expired token. Reauthentication required.'}\n",
    "```\n",
    "\n",
    "#### At this point, you will have to login again to refresh your API token (see [login to get API token](#login-to-get-API-token) above)."
   ]
  },
  {
   "cell_type": "markdown",
   "metadata": {},
   "source": [
    "## Using the Pele requests client automatically maintain authentication\n",
    "\n",
    "If you will be running scripts that will interact with the Pele API, you will need to utilize a method for automatically logging into the Pele REST API to request the API token and to refresh the token should the token expire during the script's execution.\n",
    "\n",
    "The Pele requests client can utilize the `.netrc` file to automate this for you.\n",
    "\n",
    "Here we populate your .netrc:"
   ]
  },
  {
   "cell_type": "code",
   "execution_count": null,
   "metadata": {},
   "outputs": [],
   "source": [
    "from urllib.parse import urlparse\n",
    "import getpass, os, stat\n",
    "\n",
    "system_username = getpass.getuser()\n",
    "# parse url to get netloc component\n",
    "pr = urlparse(base_url)\n",
    "\n",
    "print(\"netloc: {}\".format(pr.netloc))\n",
    "\n",
    "# get home directory\n",
    "stream = os.popen('ls -d ~')\n",
    "home_dir = stream.read().strip()\n",
    "\n",
    "# create .netrc\n",
    "print(f\"Writing {home_dir}/.netrc\")\n",
    "with open(f\"{home_dir}/.netrc\", 'a') as f:\n",
    "    f.write(f\"machine {pr.netloc} login {user} password {password}\\nmacdef init\\n\\n\")\n",
    "\n",
    "# fix perms\n",
    "os.chmod(f\"{home_dir}/.netrc\", stat.S_IRUSR | stat.S_IWUSR)\n",
    "\n",
    "print('Complete')"
   ]
  },
  {
   "cell_type": "markdown",
   "metadata": {},
   "source": [
    "## Testing the Pele client\n",
    "\n",
    "If you receive a successful response, you will now be able to use the `pele` client to access the Pele API without manual authentication"
   ]
  },
  {
   "cell_type": "code",
   "execution_count": null,
   "metadata": {},
   "outputs": [],
   "source": [
    "from pele.lib.client import PeleRequests\n",
    "\n",
    "# instantiate PeleRequests object\n",
    "print(f\"Base URL {base_url}\")\n",
    "pr = PeleRequests(base_url, verify=False)\n",
    "\n",
    "# now use like requests module (`request()`, `get()`, `head()`, `post()`, `put()`, `delete()`, `patch()`)\n",
    "r = pr.get(base_url + '/test/echo', params={'echo_str': 'hello world'})\n",
    "\n",
    "# expect 200\n",
    "print(\"status code: {}\".format(r.status_code))\n",
    "print(json.dumps(r.json(), indent=2))\n",
    "assert r.status_code == 200"
   ]
  },
  {
   "cell_type": "markdown",
   "metadata": {},
   "source": [
    "## Dealing with rate-limited API calls\n",
    "\n",
    "#### The Pele REST API rate-limits calls to prevent DoS-like access to the backend database:"
   ]
  },
  {
   "cell_type": "code",
   "execution_count": null,
   "metadata": {},
   "outputs": [],
   "source": [
    "for i in range(20):\n",
    "    r = pr.get(base_url + '/test/echo', params={'echo_str': f'({i}) hello world'})\n",
    "    print(\"({}) status code: {}\".format(i, r.status_code))\n",
    "    print(json.dumps(r.json(), indent=2))\n",
    "    r.raise_for_status()"
   ]
  },
  {
   "cell_type": "markdown",
   "metadata": {},
   "source": [
    "#### To mitigate this, use the `backoff` python module to apply exponential backoff when making numerous requests."
   ]
  },
  {
   "cell_type": "code",
   "execution_count": null,
   "metadata": {},
   "outputs": [],
   "source": [
    "!pip install backoff"
   ]
  },
  {
   "cell_type": "code",
   "execution_count": null,
   "metadata": {},
   "outputs": [],
   "source": [
    "import backoff\n",
    "from requests.exceptions import HTTPError\n",
    "\n",
    "@backoff.on_exception(backoff.expo, HTTPError, max_tries=3, max_value=5)\n",
    "def echo(i):\n",
    "    r = pr.get(base_url + '/test/echo', params={'echo_str': f'({i}) hello world'})\n",
    "    print(\"({}) status code: {}\".format(i, r.status_code))\n",
    "    print(json.dumps(r.json(), indent=2))\n",
    "    r.raise_for_status()\n",
    "    \n",
    "for i in range(20):\n",
    "    echo(i)"
   ]
  },
  {
   "cell_type": "markdown",
   "metadata": {},
   "source": [
    "<font size=\"1\">This notebook is compatible with NISAR Jupyter Server Stack v1.4 and above</font>"
   ]
  }
 ],
 "metadata": {
  "kernelspec": {
   "display_name": "Python 3",
   "language": "python",
   "name": "python3"
  },
  "language_info": {
   "codemirror_mode": {
    "name": "ipython",
    "version": 3
   },
   "file_extension": ".py",
   "mimetype": "text/x-python",
   "name": "python",
   "nbconvert_exporter": "python",
   "pygments_lexer": "ipython3",
   "version": "3.8.2"
  }
 },
 "nbformat": 4,
 "nbformat_minor": 4
}
