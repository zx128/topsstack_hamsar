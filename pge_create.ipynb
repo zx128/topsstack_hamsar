{
 "cells": [
  {
   "cell_type": "markdown",
   "metadata": {},
   "source": [
    "# PGE Creation\n",
    "This notebook is the driver by which the *topsstack_hamsar_pge* notebook will be processed in order to be available as an SDS PGE. The notebook *submit_job* is then used to submit it to the SDS for execution.\n"
   ]
  },
  {
   "cell_type": "markdown",
   "metadata": {},
   "source": [
    "### Do commit your source code changes first!\n",
    "\n",
    "The build process retrieves source code for the PGE from the GitHub repository, so it is necessary to commit and push all changes before building/rebuilding the PGE.\n",
    "\n",
    "### It also assumes you have a valid account on the cluster."
   ]
  },
  {
   "cell_type": "markdown",
   "metadata": {},
   "source": [
    "### 1. Initialize\n",
    "\n",
    "When prompted for the HySDS host, include the protocol, e.g. https://soamc-mozart.jpl.nasa.gov\n",
    "\n",
    "When prompted for \"HySDS cluster authenticated\", enter 'y' if the cluster requires a password to access."
   ]
  },
  {
   "cell_type": "code",
   "execution_count": null,
   "metadata": {},
   "outputs": [],
   "source": [
    "import os\n",
    "from pathlib import Path\n",
    "import otello\n",
    "if not os.path.exists(f\"{Path.home()}/.config/otello/config.yml\"):\n",
    "    otello.client.initialize()"
   ]
  },
  {
   "cell_type": "markdown",
   "metadata": {},
   "source": [
    "### 2. Specify the repository and branch to use\n",
    "\n",
    "This creates a handle to the Jenkins build process for your repository/PGE.\n",
    "\n",
    "*Set \"account\" and \"repository_name\" to the correct value for the remote repository you created for this PGE.*"
   ]
  },
  {
   "cell_type": "code",
   "execution_count": null,
   "metadata": {},
   "outputs": [],
   "source": [
    "account = \"xing\"\n",
    "repository_name = \"topsstack_hamsar\"\n",
    "repository_url = f\"https://github.jpl.nasa.gov/{account}/{repository_name}.git\"\n",
    "branch = \"devel\"\n",
    "\n",
    "print(\"Source code will be pulled from branch {1} of {0}\".format(repository_url, branch))\n",
    "\n",
    "ci = otello.CI(repo=repository_url, branch=branch)"
   ]
  },
  {
   "cell_type": "markdown",
   "metadata": {},
   "source": [
    "### 3. Registering the repository/job-type with the build pipeline\n",
    "\n",
    "The job-type/PGE must be registered with the build process before it can be built.\n",
    "\n",
    "Existing registrations for the job-type/PGE are removed first, to ensure that the cached versions on active worker nodes are invalidated and replaced."
   ]
  },
  {
   "cell_type": "code",
   "execution_count": null,
   "metadata": {},
   "outputs": [],
   "source": [
    "try:\n",
    "    if ci.check_job_exists():\n",
    "        print(\"Job exists, unregistering\")\n",
    "        ci.unregister()\n",
    "except Exception as e:\n",
    "    print(\"Exception : {}, trying to register anyway\".format(e))\n",
    "\n",
    "ci.register()"
   ]
  },
  {
   "cell_type": "markdown",
   "metadata": {},
   "source": [
    "### 4. Build the PGE"
   ]
  },
  {
   "cell_type": "code",
   "execution_count": null,
   "metadata": {},
   "outputs": [],
   "source": [
    "ci.submit_build()"
   ]
  },
  {
   "cell_type": "markdown",
   "metadata": {},
   "source": [
    "### 7. Wait for the build to resolve, then check whether the build was successful or not"
   ]
  },
  {
   "cell_type": "code",
   "execution_count": null,
   "metadata": {
    "pycharm": {
     "name": "#%%\n"
    }
   },
   "outputs": [],
   "source": [
    "import time\n",
    "move_on = False\n",
    "while not move_on:\n",
    "    try:\n",
    "        ci.get_build_status()\n",
    "        move_on = True\n",
    "    except Exception as e:\n",
    "        print(\"Waiting for build to start\")\n",
    "        time.sleep(10)\n",
    "    \n",
    "build_stat = ci.get_build_status()\n",
    "print(\"Build in progress.\", end=\"\")\n",
    "\n",
    "while (build_stat['building']):\n",
    "    time.sleep(10)\n",
    "    print(\".\", end=\"\", flush=True)\n",
    "    build_stat = ci.get_build_status()\n",
    "\n",
    "if (build_stat['result'] == 'FAILURE'):\n",
    "    print(\"\\nBuild failed.\")\n",
    "else:\n",
    "    print(\"\\nBuild completed successfully\")\n",
    "\n",
    "\n"
   ]
  },
  {
   "cell_type": "markdown",
   "metadata": {},
   "source": [
    "Notes: (1) caputure meta info of docker image built?"
   ]
  },
  {
   "cell_type": "code",
   "execution_count": null,
   "metadata": {},
   "outputs": [],
   "source": []
  }
 ],
 "metadata": {
  "kernelspec": {
   "display_name": "Python 3",
   "language": "python",
   "name": "python3"
  },
  "language_info": {
   "codemirror_mode": {
    "name": "ipython",
    "version": 3
   },
   "file_extension": ".py",
   "mimetype": "text/x-python",
   "name": "python",
   "nbconvert_exporter": "python",
   "pygments_lexer": "ipython3",
   "version": "3.8.2"
  }
 },
 "nbformat": 4,
 "nbformat_minor": 4
}
